{
 "cells": [
  {
   "cell_type": "code",
   "execution_count": null,
   "id": "5c549e59",
   "metadata": {},
   "outputs": [],
   "source": [
    "import requests\n",
    "import json\n",
    "import re\n",
    "import pandas as pd\n",
    "from bs4 import BeautifulSoup"
   ]
  },
  {
   "cell_type": "code",
   "execution_count": null,
   "id": "58736827",
   "metadata": {},
   "outputs": [],
   "source": [
    "df3 = pd.read_excel('AAD_agai.xlsx')"
   ]
  },
  {
   "cell_type": "code",
   "execution_count": null,
   "id": "19035035",
   "metadata": {},
   "outputs": [],
   "source": [
    "# aese article title jinka start time hai lekin end time nahi hai unko change krne keliye sess title nikal kr bharege\n",
    "set_title = set()\n",
    "c = 0\n",
    "for i in df3['start_time']:\n",
    "    if str(i)!= 'nan':\n",
    "        if str(df3.iloc[c]['end_time']) == 'nan':\n",
    "            set_title.add(df3.iloc[c]['session_title'])\n",
    "    c += 1"
   ]
  },
  {
   "cell_type": "code",
   "execution_count": null,
   "id": "dd44d7d5",
   "metadata": {},
   "outputs": [],
   "source": [
    "for i in set_title:\n",
    "    print(i)"
   ]
  },
  {
   "cell_type": "code",
   "execution_count": null,
   "id": "983b02d0",
   "metadata": {
    "scrolled": true
   },
   "outputs": [],
   "source": [
    "# session ke time se pura article ka time bharna \n",
    "for i in set_title:\n",
    "    c = 0\n",
    "    co = 0\n",
    "    for se in df3['session_title']:\n",
    "        start_t = ''\n",
    "        end_t = ''\n",
    "        \n",
    "        if se == i and df3.iloc[c]['article_title'] == df3.iloc[c]['session_title']:\n",
    "            start_t = df3.iloc[c]['start_time']\n",
    "            end_t = df3.iloc[c]['end_time']\n",
    "            print(start_t, end_t, c)\n",
    "            \n",
    "            stop = list(df3['session_title']).count(se)\n",
    "            list_time = list(df3.iloc[c+2:c+stop]['start_time'])\n",
    "            list_time.append(end_t)\n",
    "        \n",
    "        elif se == i and df3.iloc[c]['article_title'] != df3.iloc[c]['session_title'] and str(df3.iloc[c]['start_time'])!='nan' and len(df3.iloc[c]['start_time'].split('-')) < 2:\n",
    "            new_time = df3.iloc[c]['start_time'] + ' - ' + list_time[co].strip()\n",
    "            print(new_time, '===')\n",
    "            \n",
    "            df3.iat[c, df3.columns.get_loc('start_time')] = new_time.split('-')[0]\n",
    "            df3.iat[c, df3.columns.get_loc('end_time')] = new_time.split('-')[1]\n",
    "            co += 1\n",
    "            \n",
    "        c += 1\n",
    "        "
   ]
  },
  {
   "cell_type": "code",
   "execution_count": null,
   "id": "6e5ff5cb",
   "metadata": {},
   "outputs": [],
   "source": [
    "df3.to_excel('AAD_sessAgain.xlsx', index=False)"
   ]
  },
  {
   "cell_type": "code",
   "execution_count": null,
   "id": "d88f2367",
   "metadata": {},
   "outputs": [],
   "source": []
  }
 ],
 "metadata": {
  "kernelspec": {
   "display_name": "Python 3 (ipykernel)",
   "language": "python",
   "name": "python3"
  },
  "language_info": {
   "codemirror_mode": {
    "name": "ipython",
    "version": 3
   },
   "file_extension": ".py",
   "mimetype": "text/x-python",
   "name": "python",
   "nbconvert_exporter": "python",
   "pygments_lexer": "ipython3",
   "version": "3.9.12"
  }
 },
 "nbformat": 4,
 "nbformat_minor": 5
}
