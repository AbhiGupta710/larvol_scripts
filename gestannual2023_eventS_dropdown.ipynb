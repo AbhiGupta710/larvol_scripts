{
 "cells": [
  {
   "cell_type": "code",
   "execution_count": null,
   "id": "2231b1d3",
   "metadata": {},
   "outputs": [],
   "source": [
    "import re\n",
    "import pandas as pd\n",
    "import requests\n",
    "from bs4 import BeautifulSoup\n",
    "from selenium import webdriver\n",
    "import time\n",
    "import random"
   ]
  },
  {
   "cell_type": "code",
   "execution_count": null,
   "id": "a63cf491",
   "metadata": {},
   "outputs": [],
   "source": [
    "dic = {\n",
    "    'source_id':[],\n",
    "    'manual_id':[],\n",
    "    'article_title':[],\n",
    "    'url':[],\n",
    "    'authors':[],\n",
    "    'author_affiliation':[],\n",
    "    'abstract_text':[],\n",
    "    'date':[],\n",
    "    'start_time':[],\n",
    "    'end_time':[],\n",
    "    'location':[],\n",
    "    'session_id':[],\n",
    "    'news_type':[],\n",
    "    'session_title':[],\n",
    "    'session_type':[],\n",
    "    'category':[],\n",
    "    'sub_category':[],\n",
    "    'disclosure':[]\n",
    "    }"
   ]
  },
  {
   "cell_type": "code",
   "execution_count": null,
   "id": "394d6566",
   "metadata": {},
   "outputs": [],
   "source": []
  },
  {
   "cell_type": "code",
   "execution_count": null,
   "id": "68bf37b9",
   "metadata": {},
   "outputs": [],
   "source": [
    "for i in soup.find_all(class_=re.compile('list-group-item loadbyurl.*'))[0:]:\n",
    "    code = i.get('data-presid')\n",
    "    print(code)"
   ]
  },
  {
   "cell_type": "code",
   "execution_count": null,
   "id": "a91892bc",
   "metadata": {},
   "outputs": [],
   "source": []
  },
  {
   "cell_type": "code",
   "execution_count": null,
   "id": "386f558a",
   "metadata": {
    "scrolled": true
   },
   "outputs": [],
   "source": [
    "c = 0\n",
    "se_no = 1\n",
    "\n",
    "for ses in soup.find_all(class_='list-group-item bucket'):\n",
    "    \n",
    "    sess_id = f'S{se_no}'\n",
    "    session_title = ses.find(style='color:#5A5A5A').text.strip()\n",
    "    print(session_title)\n",
    "    sess_ke_presentation = ses.next_sibling\n",
    "    \n",
    "    for i in sess_ke_presentation.find_all(class_=re.compile('list-group-item loadbyurl.*'))[0:]:\n",
    "        code = i.get('data-presid')\n",
    "        icon = ''\n",
    "        if i.find_all('img'): # check if there is any icon\n",
    "            print('yesss iconn......')\n",
    "            for i in i.find_all('img'):\n",
    "                icon += i.get('title') + '; '\n",
    "                \n",
    "        session_url = f'https://gestannual2023.eventscribe.net/fsPopup.asp?PresentationID={code}&mode=presInfo'\n",
    "        \n",
    "        req = requests.get(session_url)\n",
    "        soup = BeautifulSoup(req.content, 'html.parser')\n",
    "        \n",
    "        art_title = soup.find('h1').text.strip()\n",
    "        session_date = soup.find(class_='pull-left pres-tidbit tipsytip').text.strip()\n",
    "        ses_time_loc = soup.find_all(class_='pull-left pres-tidbit')\n",
    "        session_time = ses_time_loc[0].text.strip()\n",
    "\n",
    "        if len(ses_time_loc) > 1:\n",
    "            session_loc = ses_time_loc[1].text.strip()\n",
    "        else:\n",
    "            print('no location....')\n",
    "            session_loc = ''\n",
    "\n",
    "        sess_text = ''\n",
    "        session_author = ''\n",
    "        affiliation = ''\n",
    "        sess_type = ''\n",
    "        category = ''\n",
    "        cat = soup.find_all(class_='trackname innertracks')\n",
    "        if len(cat) < 1:\n",
    "            cat = soup.find_all(style='color:#FFFFFF;font-size:14px; margin-top:10px; margin-right:10px; background:#489CD8')\n",
    "\n",
    "        try:\n",
    "            sess_type = soup.find(style='color:#FFFFFF; font-size:14px; margin-top:10px; margin-right:10px; background:#489CD8;').text.strip()\n",
    "        except:\n",
    "            try:\n",
    "                sess_type = soup.find(style='margin-top:10px;').text.strip()\n",
    "            except:\n",
    "                sess_type = ''\n",
    "\n",
    "        for i in cat:\n",
    "            category += i.text.strip() + '; '\n",
    "\n",
    "        auth = soup.find(class_='speakers-wrap')\n",
    "\n",
    "        for s_i in auth.find_all(class_='row'): # author affiliation\n",
    "            aut = s_i.find(class_='col-xs-12 col-md-6').a.text\n",
    "            aff = s_i.find(class_=\"text-muted prof-text\")\n",
    "            aff = re.split('<br.*?>', str(aff))\n",
    "            aff = ' '.join(aff)\n",
    "            if re.search('<p class=\"text-muted prof-text\">(.*?)</p>', aff):\n",
    "                aff = re.search('<p class=\"text-muted prof-text\">(.*?)</p>', aff).group(1)\n",
    "            else:\n",
    "                aff = ' '\n",
    "            session_author += aut.strip() + '; '\n",
    "            affiliation += aff + '; '\n",
    "\n",
    "        try: # abs_text with giving spaces\n",
    "            sess_text = soup.find(class_='PresentationAbstractText mar-top')\n",
    "            sess_text = str(sess_text)\n",
    "            sess_text = re.sub('<.*?>', ' ', sess_text)\n",
    "        except:\n",
    "            sess_text = ''\n",
    "        if sess_text == None:\n",
    "            sess_text = ''\n",
    "\n",
    "        if art_title == sess_type:\n",
    "            sess_type = ' '\n",
    "            print('check if.......')\n",
    "\n",
    "        category = re.sub(sess_type+'; ', '', category)\n",
    "        print(f'art title :- {art_title}')\n",
    "        print(f'session type :- {sess_type}')\n",
    "        print(f'category :- {category}')\n",
    "        print(f'session date :- {session_date}')\n",
    "        print(f'session time :- {session_time}')\n",
    "        print(f'session location :- {session_loc}')\n",
    "        print(f'session author :- {session_author}')\n",
    "        print(f'session aff :- {affiliation}')\n",
    "        print(f'session text :- {sess_text}')\n",
    "\n",
    "        print('======================='*5)\n",
    "        \n",
    "        if session_title.strip() == art_title:\n",
    "            dic['news_type'].append('Session')\n",
    "        else:\n",
    "            dic['news_type'].append('Abstract')\n",
    "            \n",
    "        dic['session_id'].append(sess_id)\n",
    "        dic['source_id'].append('')\n",
    "        dic['manual_id'].append('')\n",
    "        dic['article_title'].append(art_title)\n",
    "        dic['url'].append(session_url)\n",
    "        dic['authors'].append(session_author)\n",
    "        dic['author_affiliation'].append(affiliation)\n",
    "        dic['abstract_text'].append(sess_text)\n",
    "        dic['date'].append(session_date)\n",
    "        dic['start_time'].append(session_time)\n",
    "        dic['end_time'].append('')\n",
    "        dic['location'].append(session_loc)\n",
    "        dic['session_title'].append(session_title)\n",
    "        dic['session_type'].append(sess_type)\n",
    "        dic['category'].append(category)\n",
    "        dic['sub_category'].append('')\n",
    "        dic['disclosure'].append(icon)\n",
    "    \n",
    "    se_no += 1\n",
    "    c += 1"
   ]
  },
  {
   "cell_type": "code",
   "execution_count": null,
   "id": "fdf13608",
   "metadata": {
    "scrolled": true
   },
   "outputs": [],
   "source": [
    "df = pd.DataFrame(dic)\n",
    "df"
   ]
  },
  {
   "cell_type": "code",
   "execution_count": null,
   "id": "86fd364e",
   "metadata": {},
   "outputs": [],
   "source": [
    "df.to_excel('check_event.xlsx', index=False)"
   ]
  },
  {
   "cell_type": "code",
   "execution_count": null,
   "id": "449eb983",
   "metadata": {},
   "outputs": [],
   "source": []
  },
  {
   "cell_type": "code",
   "execution_count": null,
   "id": "256ab849",
   "metadata": {},
   "outputs": [],
   "source": []
  },
  {
   "cell_type": "code",
   "execution_count": null,
   "id": "083a9bca",
   "metadata": {},
   "outputs": [],
   "source": []
  },
  {
   "cell_type": "code",
   "execution_count": null,
   "id": "d1f2c4f5",
   "metadata": {},
   "outputs": [],
   "source": []
  },
  {
   "cell_type": "code",
   "execution_count": null,
   "id": "8f78c040",
   "metadata": {},
   "outputs": [],
   "source": []
  },
  {
   "cell_type": "code",
   "execution_count": null,
   "id": "134fedbf",
   "metadata": {
    "scrolled": true
   },
   "outputs": [],
   "source": []
  },
  {
   "cell_type": "code",
   "execution_count": null,
   "id": "9c2f5dbb",
   "metadata": {},
   "outputs": [],
   "source": []
  },
  {
   "cell_type": "code",
   "execution_count": null,
   "id": "c0797e1b",
   "metadata": {},
   "outputs": [],
   "source": []
  },
  {
   "cell_type": "code",
   "execution_count": null,
   "id": "b2d070ae",
   "metadata": {},
   "outputs": [],
   "source": []
  },
  {
   "cell_type": "code",
   "execution_count": null,
   "id": "6509eb8e",
   "metadata": {},
   "outputs": [],
   "source": []
  },
  {
   "cell_type": "code",
   "execution_count": null,
   "id": "d8b15873",
   "metadata": {},
   "outputs": [],
   "source": []
  }
 ],
 "metadata": {
  "kernelspec": {
   "display_name": "Python 3 (ipykernel)",
   "language": "python",
   "name": "python3"
  },
  "language_info": {
   "codemirror_mode": {
    "name": "ipython",
    "version": 3
   },
   "file_extension": ".py",
   "mimetype": "text/x-python",
   "name": "python",
   "nbconvert_exporter": "python",
   "pygments_lexer": "ipython3",
   "version": "3.9.12"
  }
 },
 "nbformat": 4,
 "nbformat_minor": 5
}
